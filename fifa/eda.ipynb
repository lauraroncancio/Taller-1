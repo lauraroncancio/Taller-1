{
 "cells": [
  {
   "cell_type": "markdown",
   "metadata": {
    "colab_type": "text",
    "id": "view-in-github"
   },
   "source": [
    "<a href=\"https://colab.research.google.com/github/datascience-uniandes/data-analysis-tutorial/blob/master/fifa/eda.ipynb\" target=\"_parent\"><img src=\"https://colab.research.google.com/assets/colab-badge.svg\" alt=\"Open In Colab\"/></a>"
   ]
  },
  {
   "cell_type": "markdown",
   "metadata": {
    "id": "5p6U1zpoerxv",
    "tags": []
   },
   "source": [
    "# Exploratory Data Analysis (EDA)\n",
    "\n",
    "MINE-4101: Applied Data Science  \n",
    "Univerisdad de los Andes  \n",
    "  \n",
    "Dataset: FIFA\n",
    "  \n",
    "Last update: August, 2024"
   ]
  },
  {
   "cell_type": "code",
   "execution_count": 4,
   "metadata": {
    "id": "raVCcL23erxw",
    "tags": []
   },
   "outputs": [
    {
     "name": "stdout",
     "output_type": "stream",
     "text": [
      "Collecting ydata-profiling\n",
      "  Using cached ydata_profiling-4.9.0-py2.py3-none-any.whl (356 kB)\n",
      "Requirement already satisfied: numpy<2,>=1.16.0 in c:\\users\\usuario\\anaconda3\\lib\\site-packages (from ydata-profiling) (1.26.4)\n",
      "Requirement already satisfied: jinja2<3.2,>=2.11.1 in c:\\users\\usuario\\anaconda3\\lib\\site-packages (from ydata-profiling) (2.11.3)\n",
      "Requirement already satisfied: scipy<1.14,>=1.4.1 in c:\\users\\usuario\\anaconda3\\lib\\site-packages (from ydata-profiling) (1.13.1)\n",
      "Collecting statsmodels<1,>=0.13.2\n",
      "  Using cached statsmodels-0.14.2-cp39-cp39-win_amd64.whl (9.9 MB)\n",
      "Requirement already satisfied: seaborn<0.14,>=0.10.1 in c:\\users\\usuario\\anaconda3\\lib\\site-packages (from ydata-profiling) (0.11.2)\n",
      "Requirement already satisfied: multimethod<2,>=1.4 in c:\\users\\usuario\\anaconda3\\lib\\site-packages (from ydata-profiling) (1.12)\n",
      "Collecting pydantic>=2\n",
      "  Using cached pydantic-2.8.2-py3-none-any.whl (423 kB)\n",
      "Collecting numba<1,>=0.56.0\n",
      "  Using cached numba-0.60.0-cp39-cp39-win_amd64.whl (2.7 MB)\n",
      "Collecting wordcloud>=1.9.1\n",
      "  Using cached wordcloud-1.9.3-cp39-cp39-win_amd64.whl (300 kB)\n",
      "Requirement already satisfied: visions[type_image_path]<0.7.7,>=0.7.5 in c:\\users\\usuario\\anaconda3\\lib\\site-packages (from ydata-profiling) (0.7.6)\n",
      "Collecting typeguard<5,>=3\n",
      "  Using cached typeguard-4.3.0-py3-none-any.whl (35 kB)\n",
      "Requirement already satisfied: PyYAML<6.1,>=5.0.0 in c:\\users\\usuario\\anaconda3\\lib\\site-packages (from ydata-profiling) (6.0)\n",
      "Collecting phik<0.13,>=0.11.1\n",
      "  Using cached phik-0.12.4-cp39-cp39-win_amd64.whl (666 kB)\n",
      "Requirement already satisfied: tqdm<5,>=4.48.2 in c:\\users\\usuario\\anaconda3\\lib\\site-packages (from ydata-profiling) (4.62.3)\n",
      "Requirement already satisfied: pandas!=1.4.0,<3,>1.1 in c:\\users\\usuario\\anaconda3\\lib\\site-packages (from ydata-profiling) (2.2.2)\n",
      "Collecting dacite>=1.8\n",
      "  Using cached dacite-1.8.1-py3-none-any.whl (14 kB)\n",
      "Collecting imagehash==4.3.1\n",
      "  Using cached ImageHash-4.3.1-py2.py3-none-any.whl (296 kB)\n",
      "Requirement already satisfied: requests<3,>=2.24.0 in c:\\users\\usuario\\anaconda3\\lib\\site-packages (from ydata-profiling) (2.26.0)\n",
      "Collecting htmlmin==0.1.12\n",
      "  Using cached htmlmin-0.1.12-py3-none-any.whl\n",
      "Requirement already satisfied: matplotlib<3.10,>=3.5 in c:\\users\\usuario\\anaconda3\\lib\\site-packages (from ydata-profiling) (3.9.2)\n",
      "Requirement already satisfied: pillow in c:\\users\\usuario\\anaconda3\\lib\\site-packages (from imagehash==4.3.1->ydata-profiling) (8.4.0)\n",
      "Requirement already satisfied: PyWavelets in c:\\users\\usuario\\anaconda3\\lib\\site-packages (from imagehash==4.3.1->ydata-profiling) (1.1.1)\n",
      "Requirement already satisfied: MarkupSafe>=0.23 in c:\\users\\usuario\\anaconda3\\lib\\site-packages (from jinja2<3.2,>=2.11.1->ydata-profiling) (1.1.1)\n",
      "Requirement already satisfied: packaging>=20.0 in c:\\users\\usuario\\anaconda3\\lib\\site-packages (from matplotlib<3.10,>=3.5->ydata-profiling) (24.1)\n",
      "Requirement already satisfied: cycler>=0.10 in c:\\users\\usuario\\anaconda3\\lib\\site-packages (from matplotlib<3.10,>=3.5->ydata-profiling) (0.10.0)\n",
      "Requirement already satisfied: pyparsing>=2.3.1 in c:\\users\\usuario\\anaconda3\\lib\\site-packages (from matplotlib<3.10,>=3.5->ydata-profiling) (3.0.4)\n",
      "Requirement already satisfied: importlib-resources>=3.2.0 in c:\\users\\usuario\\anaconda3\\lib\\site-packages (from matplotlib<3.10,>=3.5->ydata-profiling) (6.4.4)\n",
      "Requirement already satisfied: kiwisolver>=1.3.1 in c:\\users\\usuario\\anaconda3\\lib\\site-packages (from matplotlib<3.10,>=3.5->ydata-profiling) (1.3.1)\n",
      "Requirement already satisfied: fonttools>=4.22.0 in c:\\users\\usuario\\anaconda3\\lib\\site-packages (from matplotlib<3.10,>=3.5->ydata-profiling) (4.25.0)\n",
      "Requirement already satisfied: python-dateutil>=2.7 in c:\\users\\usuario\\anaconda3\\lib\\site-packages (from matplotlib<3.10,>=3.5->ydata-profiling) (2.8.2)\n",
      "Requirement already satisfied: contourpy>=1.0.1 in c:\\users\\usuario\\anaconda3\\lib\\site-packages (from matplotlib<3.10,>=3.5->ydata-profiling) (1.3.0)\n",
      "Requirement already satisfied: six in c:\\users\\usuario\\anaconda3\\lib\\site-packages (from cycler>=0.10->matplotlib<3.10,>=3.5->ydata-profiling) (1.16.0)\n",
      "Requirement already satisfied: zipp>=3.1.0 in c:\\users\\usuario\\anaconda3\\lib\\site-packages (from importlib-resources>=3.2.0->matplotlib<3.10,>=3.5->ydata-profiling) (3.6.0)\n",
      "Collecting llvmlite<0.44,>=0.43.0dev0\n",
      "  Using cached llvmlite-0.43.0-cp39-cp39-win_amd64.whl (28.1 MB)\n",
      "Requirement already satisfied: pytz>=2020.1 in c:\\users\\usuario\\anaconda3\\lib\\site-packages (from pandas!=1.4.0,<3,>1.1->ydata-profiling) (2021.3)\n",
      "Requirement already satisfied: tzdata>=2022.7 in c:\\users\\usuario\\anaconda3\\lib\\site-packages (from pandas!=1.4.0,<3,>1.1->ydata-profiling) (2024.1)\n",
      "Requirement already satisfied: joblib>=0.14.1 in c:\\users\\usuario\\anaconda3\\lib\\site-packages (from phik<0.13,>=0.11.1->ydata-profiling) (1.1.0)\n",
      "Requirement already satisfied: typing-extensions>=4.6.1 in c:\\users\\usuario\\anaconda3\\lib\\site-packages (from pydantic>=2->ydata-profiling) (4.12.2)\n",
      "Requirement already satisfied: pydantic-core==2.20.1 in c:\\users\\usuario\\anaconda3\\lib\\site-packages (from pydantic>=2->ydata-profiling) (2.20.1)\n",
      "Collecting annotated-types>=0.4.0\n",
      "  Using cached annotated_types-0.7.0-py3-none-any.whl (13 kB)\n",
      "Requirement already satisfied: certifi>=2017.4.17 in c:\\users\\usuario\\anaconda3\\lib\\site-packages (from requests<3,>=2.24.0->ydata-profiling) (2021.10.8)\n",
      "Requirement already satisfied: idna<4,>=2.5 in c:\\users\\usuario\\anaconda3\\lib\\site-packages (from requests<3,>=2.24.0->ydata-profiling) (3.2)\n",
      "Requirement already satisfied: charset-normalizer~=2.0.0 in c:\\users\\usuario\\anaconda3\\lib\\site-packages (from requests<3,>=2.24.0->ydata-profiling) (2.0.4)\n",
      "Requirement already satisfied: urllib3<1.27,>=1.21.1 in c:\\users\\usuario\\anaconda3\\lib\\site-packages (from requests<3,>=2.24.0->ydata-profiling) (1.26.7)\n",
      "Requirement already satisfied: patsy>=0.5.6 in c:\\users\\usuario\\anaconda3\\lib\\site-packages (from statsmodels<1,>=0.13.2->ydata-profiling) (0.5.6)\n",
      "Requirement already satisfied: colorama in c:\\users\\usuario\\anaconda3\\lib\\site-packages (from tqdm<5,>=4.48.2->ydata-profiling) (0.4.4)\n",
      "Requirement already satisfied: importlib-metadata>=3.6 in c:\\users\\usuario\\anaconda3\\lib\\site-packages (from typeguard<5,>=3->ydata-profiling) (4.8.1)\n",
      "Requirement already satisfied: networkx>=2.4 in c:\\users\\usuario\\anaconda3\\lib\\site-packages (from visions[type_image_path]<0.7.7,>=0.7.5->ydata-profiling) (2.6.3)\n",
      "Requirement already satisfied: attrs>=19.3.0 in c:\\users\\usuario\\anaconda3\\lib\\site-packages (from visions[type_image_path]<0.7.7,>=0.7.5->ydata-profiling) (21.2.0)\n",
      "Installing collected packages: llvmlite, imagehash, annotated-types, wordcloud, typeguard, statsmodels, pydantic, phik, numba, htmlmin, dacite, ydata-profiling\n",
      "  Attempting uninstall: llvmlite\n",
      "    Found existing installation: llvmlite 0.37.0\n",
      "Note: you may need to restart the kernel to use updated packages.\n"
     ]
    },
    {
     "name": "stderr",
     "output_type": "stream",
     "text": [
      "ERROR: Cannot uninstall 'llvmlite'. It is a distutils installed project and thus we cannot accurately determine which files belong to it which would lead to only a partial uninstall.\n"
     ]
    }
   ],
   "source": [
    "pip install --upgrade ydata-profiling"
   ]
  },
  {
   "cell_type": "code",
   "execution_count": 3,
   "metadata": {
    "id": "X4T1Rk_yerxx"
   },
   "outputs": [
    {
     "name": "stderr",
     "output_type": "stream",
     "text": [
      "C:\\Users\\Usuario\\anaconda3\\lib\\site-packages\\pandas\\core\\computation\\expressions.py:21: UserWarning: Pandas requires version '2.8.4' or newer of 'numexpr' (version '2.7.3' currently installed).\n",
      "  from pandas.core.computation.check import NUMEXPR_INSTALLED\n",
      "C:\\Users\\Usuario\\anaconda3\\lib\\site-packages\\pandas\\core\\arrays\\masked.py:60: UserWarning: Pandas requires version '1.3.6' or newer of 'bottleneck' (version '1.3.2' currently installed).\n",
      "  from pandas.core import (\n"
     ]
    },
    {
     "ename": "AttributeError",
     "evalue": "module 'matplotlib.cm' has no attribute 'register_cmap'",
     "output_type": "error",
     "traceback": [
      "\u001b[1;31m---------------------------------------------------------------------------\u001b[0m",
      "\u001b[1;31mAttributeError\u001b[0m                            Traceback (most recent call last)",
      "\u001b[1;32m~\\AppData\\Local\\Temp/ipykernel_12556/623293721.py\u001b[0m in \u001b[0;36m<module>\u001b[1;34m\u001b[0m\n\u001b[0;32m      5\u001b[0m \u001b[1;33m\u001b[0m\u001b[0m\n\u001b[0;32m      6\u001b[0m \u001b[1;32mimport\u001b[0m \u001b[0mmatplotlib\u001b[0m\u001b[1;33m.\u001b[0m\u001b[0mpyplot\u001b[0m \u001b[1;32mas\u001b[0m \u001b[0mplt\u001b[0m\u001b[1;33m\u001b[0m\u001b[1;33m\u001b[0m\u001b[0m\n\u001b[1;32m----> 7\u001b[1;33m \u001b[1;32mimport\u001b[0m \u001b[0mseaborn\u001b[0m \u001b[1;32mas\u001b[0m \u001b[0msns\u001b[0m\u001b[1;33m\u001b[0m\u001b[1;33m\u001b[0m\u001b[0m\n\u001b[0m\u001b[0;32m      8\u001b[0m \u001b[1;33m\u001b[0m\u001b[0m\n\u001b[0;32m      9\u001b[0m \u001b[1;32mfrom\u001b[0m \u001b[0mydata_profiling\u001b[0m \u001b[1;32mimport\u001b[0m \u001b[0mProfileReport\u001b[0m\u001b[1;33m\u001b[0m\u001b[1;33m\u001b[0m\u001b[0m\n",
      "\u001b[1;32m~\\anaconda3\\lib\\site-packages\\seaborn\\__init__.py\u001b[0m in \u001b[0;36m<module>\u001b[1;34m\u001b[0m\n\u001b[0;32m      7\u001b[0m \u001b[1;32mfrom\u001b[0m \u001b[1;33m.\u001b[0m\u001b[0mcategorical\u001b[0m \u001b[1;32mimport\u001b[0m \u001b[1;33m*\u001b[0m  \u001b[1;31m# noqa: F401,F403\u001b[0m\u001b[1;33m\u001b[0m\u001b[1;33m\u001b[0m\u001b[0m\n\u001b[0;32m      8\u001b[0m \u001b[1;32mfrom\u001b[0m \u001b[1;33m.\u001b[0m\u001b[0mdistributions\u001b[0m \u001b[1;32mimport\u001b[0m \u001b[1;33m*\u001b[0m  \u001b[1;31m# noqa: F401,F403\u001b[0m\u001b[1;33m\u001b[0m\u001b[1;33m\u001b[0m\u001b[0m\n\u001b[1;32m----> 9\u001b[1;33m \u001b[1;32mfrom\u001b[0m \u001b[1;33m.\u001b[0m\u001b[0mmatrix\u001b[0m \u001b[1;32mimport\u001b[0m \u001b[1;33m*\u001b[0m  \u001b[1;31m# noqa: F401,F403\u001b[0m\u001b[1;33m\u001b[0m\u001b[1;33m\u001b[0m\u001b[0m\n\u001b[0m\u001b[0;32m     10\u001b[0m \u001b[1;32mfrom\u001b[0m \u001b[1;33m.\u001b[0m\u001b[0mmiscplot\u001b[0m \u001b[1;32mimport\u001b[0m \u001b[1;33m*\u001b[0m  \u001b[1;31m# noqa: F401,F403\u001b[0m\u001b[1;33m\u001b[0m\u001b[1;33m\u001b[0m\u001b[0m\n\u001b[0;32m     11\u001b[0m \u001b[1;32mfrom\u001b[0m \u001b[1;33m.\u001b[0m\u001b[0maxisgrid\u001b[0m \u001b[1;32mimport\u001b[0m \u001b[1;33m*\u001b[0m  \u001b[1;31m# noqa: F401,F403\u001b[0m\u001b[1;33m\u001b[0m\u001b[1;33m\u001b[0m\u001b[0m\n",
      "\u001b[1;32m~\\anaconda3\\lib\\site-packages\\seaborn\\matrix.py\u001b[0m in \u001b[0;36m<module>\u001b[1;34m\u001b[0m\n\u001b[0;32m     10\u001b[0m \u001b[1;32mfrom\u001b[0m \u001b[0mscipy\u001b[0m\u001b[1;33m.\u001b[0m\u001b[0mcluster\u001b[0m \u001b[1;32mimport\u001b[0m \u001b[0mhierarchy\u001b[0m\u001b[1;33m\u001b[0m\u001b[1;33m\u001b[0m\u001b[0m\n\u001b[0;32m     11\u001b[0m \u001b[1;33m\u001b[0m\u001b[0m\n\u001b[1;32m---> 12\u001b[1;33m \u001b[1;32mfrom\u001b[0m \u001b[1;33m.\u001b[0m \u001b[1;32mimport\u001b[0m \u001b[0mcm\u001b[0m\u001b[1;33m\u001b[0m\u001b[1;33m\u001b[0m\u001b[0m\n\u001b[0m\u001b[0;32m     13\u001b[0m \u001b[1;32mfrom\u001b[0m \u001b[1;33m.\u001b[0m\u001b[0maxisgrid\u001b[0m \u001b[1;32mimport\u001b[0m \u001b[0mGrid\u001b[0m\u001b[1;33m\u001b[0m\u001b[1;33m\u001b[0m\u001b[0m\n\u001b[0;32m     14\u001b[0m from .utils import (\n",
      "\u001b[1;32m~\\anaconda3\\lib\\site-packages\\seaborn\\cm.py\u001b[0m in \u001b[0;36m<module>\u001b[1;34m\u001b[0m\n\u001b[0;32m   1580\u001b[0m     \u001b[0mlocals\u001b[0m\u001b[1;33m(\u001b[0m\u001b[1;33m)\u001b[0m\u001b[1;33m[\u001b[0m\u001b[0m_name\u001b[0m \u001b[1;33m+\u001b[0m \u001b[1;34m\"_r\"\u001b[0m\u001b[1;33m]\u001b[0m \u001b[1;33m=\u001b[0m \u001b[0m_cmap_r\u001b[0m\u001b[1;33m\u001b[0m\u001b[1;33m\u001b[0m\u001b[0m\n\u001b[0;32m   1581\u001b[0m \u001b[1;33m\u001b[0m\u001b[0m\n\u001b[1;32m-> 1582\u001b[1;33m     \u001b[0mmpl_cm\u001b[0m\u001b[1;33m.\u001b[0m\u001b[0mregister_cmap\u001b[0m\u001b[1;33m(\u001b[0m\u001b[0m_name\u001b[0m\u001b[1;33m,\u001b[0m \u001b[0m_cmap\u001b[0m\u001b[1;33m)\u001b[0m\u001b[1;33m\u001b[0m\u001b[1;33m\u001b[0m\u001b[0m\n\u001b[0m\u001b[0;32m   1583\u001b[0m     \u001b[0mmpl_cm\u001b[0m\u001b[1;33m.\u001b[0m\u001b[0mregister_cmap\u001b[0m\u001b[1;33m(\u001b[0m\u001b[0m_name\u001b[0m \u001b[1;33m+\u001b[0m \u001b[1;34m\"_r\"\u001b[0m\u001b[1;33m,\u001b[0m \u001b[0m_cmap_r\u001b[0m\u001b[1;33m)\u001b[0m\u001b[1;33m\u001b[0m\u001b[1;33m\u001b[0m\u001b[0m\n\u001b[0;32m   1584\u001b[0m \u001b[1;33m\u001b[0m\u001b[0m\n",
      "\u001b[1;31mAttributeError\u001b[0m: module 'matplotlib.cm' has no attribute 'register_cmap'"
     ]
    }
   ],
   "source": [
    "# Importing libraries\n",
    "\n",
    "import numpy as np\n",
    "import pandas as pd\n",
    "\n",
    "import matplotlib.pyplot as plt\n",
    "import seaborn as sns\n",
    "\n",
    "from ydata_profiling import ProfileReport"
   ]
  },
  {
   "cell_type": "code",
   "execution_count": 4,
   "metadata": {
    "id": "fRyhiCBperxx"
   },
   "outputs": [],
   "source": [
    "# Panadas configuration to extend the number of rows and columns to visualize by default\n",
    "pd.set_option('display.max_rows', 100)\n",
    "pd.set_option('display.max_columns', 100)"
   ]
  },
  {
   "cell_type": "code",
   "execution_count": 5,
   "metadata": {},
   "outputs": [],
   "source": [
    "# Suppress scientific notation\n",
    "pd.options.display.float_format = '{:.2f}'.format"
   ]
  },
  {
   "cell_type": "markdown",
   "metadata": {},
   "source": [
    "### Load the data"
   ]
  },
  {
   "cell_type": "code",
   "execution_count": 6,
   "metadata": {
    "id": "5VBZ3Vceerxx"
   },
   "outputs": [
    {
     "name": "stderr",
     "output_type": "stream",
     "text": [
      "C:\\Users\\Usuario\\anaconda3\\lib\\site-packages\\IPython\\core\\interactiveshell.py:3444: DtypeWarning: Columns (22,34) have mixed types.Specify dtype option on import or set low_memory=False.\n",
      "  exec(code_obj, self.user_global_ns, self.user_ns)\n"
     ]
    }
   ],
   "source": [
    "# Loading the CSV file as a dataframe\n",
    "fifa_df = pd.read_csv('./data/fifa.csv')"
   ]
  },
  {
   "cell_type": "code",
   "execution_count": null,
   "metadata": {
    "id": "Oa5ltomOerxy"
   },
   "outputs": [],
   "source": [
    "# Showing the dataframe dimensions\n",
    "fifa_df.shape"
   ]
  },
  {
   "cell_type": "code",
   "execution_count": null,
   "metadata": {
    "id": "dE2awzI8erxy"
   },
   "outputs": [],
   "source": [
    "# Showing the column data types\n",
    "fifa_df.dtypes"
   ]
  },
  {
   "cell_type": "code",
   "execution_count": null,
   "metadata": {
    "id": "Hxv3NEHOerxz"
   },
   "outputs": [],
   "source": [
    "# Showing the top 5 rows\n",
    "fifa_df.head()"
   ]
  },
  {
   "cell_type": "markdown",
   "metadata": {
    "id": "LO3GdIneerxz"
   },
   "source": [
    "### Transform some columns"
   ]
  },
  {
   "cell_type": "code",
   "execution_count": null,
   "metadata": {
    "id": "UNkuBwdQerxz",
    "tags": []
   },
   "outputs": [],
   "source": [
    "# Analyzing unique values for columns Value and Wage\n",
    "set(''.join(fifa_df['Value'].values + fifa_df['Wage'].values))"
   ]
  },
  {
   "cell_type": "code",
   "execution_count": null,
   "metadata": {
    "id": "JaEEyBxserx0"
   },
   "outputs": [],
   "source": [
    "# Transforming some columns to float based on thousand and million symbols\n",
    "\n",
    "def money_str_to_float(x):\n",
    "    x = x.replace('€', '')           # Remove the euro symbol\n",
    "    if 'M' in x:                     # If the value has the million symbol \n",
    "        x = x.replace('M', '')       # Remove the symbol\n",
    "        return float(x) * 1000000    # Cast the value to float and multiply it by 1'000.000\n",
    "    elif 'K' in x:                   # If value has the thousand symbol\n",
    "        x = x.replace('K', '')       # # Remove the symbol\n",
    "        return float(x) * 1000       # Cast the value to float and multiply it by 1.000\n",
    "    else:                            # If neither symbol is found\n",
    "        return float(x)              # Only cast the value to float\n",
    "\n",
    "fifa_df['Value'] = fifa_df['Value'].apply(money_str_to_float)\n",
    "fifa_df['Wage'] = fifa_df['Wage'].apply(money_str_to_float)"
   ]
  },
  {
   "cell_type": "code",
   "execution_count": null,
   "metadata": {
    "id": "Kow-ZZGkerx0"
   },
   "outputs": [],
   "source": [
    "fifa_df.head()"
   ]
  },
  {
   "cell_type": "markdown",
   "metadata": {
    "id": "MCcVrHn5erx0",
    "tags": []
   },
   "source": [
    "### Explore the *Value* column"
   ]
  },
  {
   "cell_type": "code",
   "execution_count": null,
   "metadata": {
    "id": "gOV0U87werx1"
   },
   "outputs": [],
   "source": [
    "# Getting the mean Value for all players\n",
    "fifa_df['Value'].mean()"
   ]
  },
  {
   "cell_type": "code",
   "execution_count": null,
   "metadata": {
    "id": "jT6ekDaIerx1"
   },
   "outputs": [],
   "source": [
    "# Getting the median value for all players\n",
    "fifa_df['Value'].median()"
   ]
  },
  {
   "cell_type": "code",
   "execution_count": null,
   "metadata": {
    "id": "tGZWoMWwerx1"
   },
   "outputs": [],
   "source": [
    "# Getting the player with the highest value\n",
    "max_value = fifa_df['Value'].max()\n",
    "fifa_df.loc[fifa_df['Value'] == max_value]"
   ]
  },
  {
   "cell_type": "code",
   "execution_count": null,
   "metadata": {
    "id": "8IRpvjmDerx1"
   },
   "outputs": [],
   "source": [
    "# Getting the main statistics for the Value column\n",
    "fifa_df['Value'].describe()"
   ]
  },
  {
   "cell_type": "markdown",
   "metadata": {},
   "source": [
    "<p style=\"color: red;\">Modify the code above to show percentiles 95 and 99</p>"
   ]
  },
  {
   "cell_type": "code",
   "execution_count": null,
   "metadata": {},
   "outputs": [],
   "source": []
  },
  {
   "cell_type": "code",
   "execution_count": null,
   "metadata": {},
   "outputs": [],
   "source": [
    "# Computing skewness and kurtosis\n",
    "print(\"Skewness:\", fifa_df['Value'].skew())\n",
    "print(\"Kurtosis:\", fifa_df['Value'].kurtosis())"
   ]
  },
  {
   "cell_type": "code",
   "execution_count": null,
   "metadata": {
    "id": "orqx5NO5erx1"
   },
   "outputs": [],
   "source": [
    "# Plotting the histogram for the column\n",
    "fifa_df['Value'].hist()\n",
    "plt.show()"
   ]
  },
  {
   "cell_type": "code",
   "execution_count": null,
   "metadata": {
    "id": "Ypgk92Pjerx2"
   },
   "outputs": [],
   "source": [
    "# Defining the number of bins and for better visualization\n",
    "plt.figure()\n",
    "fifa_df['Value'].hist(bins=50)\n",
    "plt.show()"
   ]
  },
  {
   "cell_type": "code",
   "execution_count": null,
   "metadata": {
    "id": "W6hTvnT2erx2"
   },
   "outputs": [],
   "source": [
    "# Plotting distribution but using a boxplot\n",
    "plt.figure(figsize=(18, 3))\n",
    "plt.boxplot(fifa_df['Value'], showmeans=True, vert=False)\n",
    "plt.show()"
   ]
  },
  {
   "cell_type": "code",
   "execution_count": null,
   "metadata": {
    "id": "hHle4Axyerx2"
   },
   "outputs": [],
   "source": [
    "# Which are the most valuable players?\n",
    "outlier_threshold = fifa_df['Value'].mean() + fifa_df['Value'].std() * 15\n",
    "fifa_df[fifa_df['Value'] > outlier_threshold]"
   ]
  },
  {
   "cell_type": "code",
   "execution_count": null,
   "metadata": {
    "id": "dXP9615Xerx4"
   },
   "outputs": [],
   "source": [
    "# Using the method based on quartiles to select outliers\n",
    "iqr = (fifa_df['Value'].quantile(.75) - fifa_df['Value'].quantile(.25))\n",
    "outlier_threshold = fifa_df['Value'].quantile(.75) + iqr * 45\n",
    "fifa_df[fifa_df['Value'] > outlier_threshold]"
   ]
  },
  {
   "cell_type": "markdown",
   "metadata": {
    "id": "cH7G5X4Aerx4",
    "tags": []
   },
   "source": [
    "### Explore the *Preferred Positions* column"
   ]
  },
  {
   "cell_type": "code",
   "execution_count": null,
   "metadata": {
    "id": "_SgUnsnKerx4"
   },
   "outputs": [],
   "source": [
    "fifa_df['Preferred Positions'].unique()"
   ]
  },
  {
   "cell_type": "code",
   "execution_count": null,
   "metadata": {
    "id": "fMra_Vkcerx4"
   },
   "outputs": [],
   "source": [
    "# How many preferred positions the players have?\n",
    "\n",
    "def count_pref_positions(x):\n",
    "    positions = x.strip().split(' ')    # Split the text by space\n",
    "    return len(positions)               # Count the number of positions and return the value\n",
    "\n",
    "fifa_df['Preferred Positions'].apply(count_pref_positions).value_counts(dropna=False, normalize=True)"
   ]
  },
  {
   "cell_type": "code",
   "execution_count": null,
   "metadata": {
    "id": "JRsF-JY2erx5"
   },
   "outputs": [],
   "source": [
    "# Selecting the preferred position with the highest score\n",
    "\n",
    "def get_pref_position(row):\n",
    "    pref_positions = row['Preferred Positions'].strip().split(' ')    # Split the text by space\n",
    "    if pref_positions[0] == \"GK\":                                     # Handle the special case for GKs\n",
    "        return \"GK\"\n",
    "    scores = np.array([row[p] for p in pref_positions])               # Get the the scores for each preferred position\n",
    "    i_max = np.argmax(scores)                                         # Get the index for the highest score\n",
    "    return pref_positions[i_max]                                      # Locate the position using its index and return it\n",
    "\n",
    "fifa_df['Preferred Position'] = fifa_df.apply(get_pref_position, axis=1)"
   ]
  },
  {
   "cell_type": "code",
   "execution_count": null,
   "metadata": {
    "id": "oqsdASvderx5"
   },
   "outputs": [],
   "source": [
    "# Calculating the absolute frecuency of the preferred position\n",
    "pref_positions_abs_frec = fifa_df['Preferred Position'].value_counts(dropna=False)\n",
    "pref_positions_abs_frec"
   ]
  },
  {
   "cell_type": "code",
   "execution_count": null,
   "metadata": {
    "id": "kezCn1Uterx5"
   },
   "outputs": [],
   "source": [
    "# Plotting preferred position frecuency\n",
    "# WARNING: line chart assumes continuity. It is a better choice when dealing with continuous variables (e.g. time series)\n",
    "pref_positions_abs_frec.plot()\n",
    "plt.show()"
   ]
  },
  {
   "cell_type": "markdown",
   "metadata": {},
   "source": [
    "<p style=\"color: red;\">Use a bar chart to better visualize the preferred position frecuency</p>"
   ]
  },
  {
   "cell_type": "code",
   "execution_count": null,
   "metadata": {},
   "outputs": [],
   "source": []
  },
  {
   "cell_type": "markdown",
   "metadata": {
    "id": "HC1WZV2gerx5",
    "tags": []
   },
   "source": [
    "### Explore the relationship between *Age* and *Value*"
   ]
  },
  {
   "cell_type": "code",
   "execution_count": null,
   "metadata": {
    "id": "c-q_qJP2erx5"
   },
   "outputs": [],
   "source": [
    "# Plotting a scatter plot to visualize two quantitative variables\n",
    "plt.figure(figsize=(13, 7))\n",
    "plt.scatter(fifa_df['Age'], fifa_df['Value'], alpha=0.5)\n",
    "plt.title('Age vs. Value')\n",
    "plt.xlabel('Age')\n",
    "plt.ylabel('Value')\n",
    "plt.show()"
   ]
  },
  {
   "cell_type": "code",
   "execution_count": null,
   "metadata": {
    "id": "IiQ43JD7erx5"
   },
   "outputs": [],
   "source": [
    "# What is the (linear) correlation coefficient?\n",
    "fifa_df[['Age', 'Value']].corr()"
   ]
  },
  {
   "cell_type": "code",
   "execution_count": null,
   "metadata": {
    "id": "KayMCOseerx5"
   },
   "outputs": [],
   "source": [
    "# What is the (monotonic) correlation coefficient?\n",
    "fifa_df[['Age', 'Value']].corr('spearman')"
   ]
  },
  {
   "cell_type": "markdown",
   "metadata": {
    "id": "CiLo_etGerx6"
   },
   "source": [
    "### Explore the relationship between *Overall* and *Value*"
   ]
  },
  {
   "cell_type": "code",
   "execution_count": null,
   "metadata": {
    "id": "QkpcLQx3erx6"
   },
   "outputs": [],
   "source": [
    "plt.figure(figsize=(13, 7))\n",
    "plt.scatter(fifa_df['Overall'], fifa_df['Value'], alpha=0.5, color='orange')\n",
    "plt.title('Overall vs. Value')\n",
    "plt.xlabel('Overall')\n",
    "plt.ylabel('Value')\n",
    "plt.show()"
   ]
  },
  {
   "cell_type": "code",
   "execution_count": null,
   "metadata": {
    "id": "VU_TwV0berx6"
   },
   "outputs": [],
   "source": [
    "# What is the (linear) correlation coefficient?\n",
    "fifa_df[['Overall', 'Value']].corr()"
   ]
  },
  {
   "cell_type": "code",
   "execution_count": null,
   "metadata": {
    "id": "tv8ahrL1erx6"
   },
   "outputs": [],
   "source": [
    "# What is the (monotonic) correlation coefficient?\n",
    "fifa_df[['Overall', 'Value']].corr('spearman')"
   ]
  },
  {
   "cell_type": "markdown",
   "metadata": {
    "id": "FJMM9SSferx6"
   },
   "source": [
    "<p style=\"color: red;\">Why both methods give different correlation coefficients for the same pair of variables?</p>"
   ]
  },
  {
   "cell_type": "markdown",
   "metadata": {
    "id": "9KEcVr3Verx6"
   },
   "source": [
    "### Compare by *Club*"
   ]
  },
  {
   "cell_type": "code",
   "execution_count": null,
   "metadata": {},
   "outputs": [],
   "source": [
    "# Plotting Wage by club\n",
    "plt.figure(figsize=(13, 10))\n",
    "sns.boxplot(\n",
    "    data=fifa_df.loc[fifa_df['Club'].isin(['Real Madrid CF', 'FC Barcelona'])],\n",
    "    x='Club',\n",
    "    y='Wage',\n",
    "    showmeans=True\n",
    ")\n",
    "plt.show()"
   ]
  },
  {
   "cell_type": "code",
   "execution_count": null,
   "metadata": {
    "id": "Y0uzlkILerx6"
   },
   "outputs": [],
   "source": [
    "# Plotting Wage by club\n",
    "plt.figure(figsize=(13, 10))\n",
    "sns.boxplot(\n",
    "    data=fifa_df.loc[fifa_df['Club'].isin(['Independiente Santa Fe', 'CD Los Millionarios Bogota'])],\n",
    "    x='Club',\n",
    "    y='Wage',\n",
    "    showmeans=True\n",
    ")\n",
    "plt.show()"
   ]
  },
  {
   "cell_type": "markdown",
   "metadata": {},
   "source": [
    "<p style=\"color: red;\">What are the main origins (Nationality) of the players in the top 3 teams with the most expensive squads (Value)? Hint: You need to group the data first.</p>"
   ]
  },
  {
   "cell_type": "code",
   "execution_count": null,
   "metadata": {},
   "outputs": [],
   "source": []
  },
  {
   "cell_type": "markdown",
   "metadata": {
    "id": "Btqs1K3Ferx6"
   },
   "source": [
    "### Profiling the data"
   ]
  },
  {
   "cell_type": "code",
   "execution_count": null,
   "metadata": {
    "id": "gFjsKzVierx6"
   },
   "outputs": [],
   "source": [
    "profile = ProfileReport(fifa_df)"
   ]
  },
  {
   "cell_type": "code",
   "execution_count": null,
   "metadata": {
    "id": "XfV0ii6Perx6"
   },
   "outputs": [],
   "source": [
    "# profile.to_notebook_iframe()"
   ]
  },
  {
   "cell_type": "code",
   "execution_count": null,
   "metadata": {
    "id": "3I7tqdJterx6"
   },
   "outputs": [],
   "source": [
    "# profile.to_file('report.html')"
   ]
  },
  {
   "cell_type": "markdown",
   "metadata": {
    "id": "i07Dpbg1tA4W"
   },
   "source": [
    "### Exporting clean date"
   ]
  },
  {
   "cell_type": "code",
   "execution_count": null,
   "metadata": {},
   "outputs": [],
   "source": [
    "fifa_df.to_csv('./data/fifa_clean.csv', index=False)"
   ]
  },
  {
   "cell_type": "code",
   "execution_count": null,
   "metadata": {},
   "outputs": [],
   "source": []
  }
 ],
 "metadata": {
  "colab": {
   "include_colab_link": true,
   "name": "eda-tutorial.ipynb",
   "provenance": []
  },
  "kernelspec": {
   "display_name": "Python 3 (ipykernel)",
   "language": "python",
   "name": "python3"
  },
  "language_info": {
   "codemirror_mode": {
    "name": "ipython",
    "version": 3
   },
   "file_extension": ".py",
   "mimetype": "text/x-python",
   "name": "python",
   "nbconvert_exporter": "python",
   "pygments_lexer": "ipython3",
   "version": "3.9.7"
  }
 },
 "nbformat": 4,
 "nbformat_minor": 4
}
