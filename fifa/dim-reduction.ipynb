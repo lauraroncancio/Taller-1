{
 "cells": [
  {
   "cell_type": "markdown",
   "id": "02f7829d-724e-46a7-b1fb-754925438687",
   "metadata": {},
   "source": [
    "<a href=\"https://colab.research.google.com/github/datascience-uniandes/data-analysis-tutorial/blob/master/fifa/dim-reduction.ipynb\" target=\"_parent\"><img src=\"https://colab.research.google.com/assets/colab-badge.svg\" alt=\"Open In Colab\"/></a>"
   ]
  },
  {
   "cell_type": "markdown",
   "id": "2893d8bf-e552-4ab8-9950-f1dedb6d4faa",
   "metadata": {},
   "source": [
    "# Dimensionality Reduction for high-dimensional data visualization\n",
    "\n",
    "MINE-4101: Applied Data Science  \n",
    "Univerisdad de los Andes  \n",
    "  \n",
    "Dataset: FIFA\n",
    "  \n",
    "Last update: September, 2022"
   ]
  },
  {
   "cell_type": "code",
   "execution_count": null,
   "id": "df22068a-2c07-4c5e-b479-7a73ba6bca04",
   "metadata": {
    "tags": []
   },
   "outputs": [],
   "source": [
    "#!pip install umap-learn"
   ]
  },
  {
   "cell_type": "code",
   "execution_count": null,
   "id": "8bd365ac-82ea-4e89-996f-1f7440a4138e",
   "metadata": {},
   "outputs": [],
   "source": [
    "import numpy as np\n",
    "import pandas as pd\n",
    "\n",
    "import matplotlib.pyplot as plt\n",
    "import seaborn as sns\n",
    "\n",
    "from sklearn.decomposition import PCA\n",
    "from sklearn.manifold import TSNE\n",
    "\n",
    "#from umap import UMAP"
   ]
  },
  {
   "cell_type": "code",
   "execution_count": null,
   "id": "768596e9-4369-474c-a316-689e774c2449",
   "metadata": {},
   "outputs": [],
   "source": [
    "pd.set_option('display.max_rows', 100)\n",
    "pd.set_option('display.max_columns', 100)"
   ]
  },
  {
   "cell_type": "markdown",
   "id": "c5f0a288-3dd4-463a-9c70-8b031d320538",
   "metadata": {},
   "source": [
    "### Loading the data"
   ]
  },
  {
   "cell_type": "code",
   "execution_count": null,
   "id": "3507b6b6-a230-489f-a13b-ba79c1919410",
   "metadata": {
    "id": "5VBZ3Vceerxx"
   },
   "outputs": [],
   "source": [
    "fifa_df = pd.read_csv('./data/fifa_clean.csv')"
   ]
  },
  {
   "cell_type": "code",
   "execution_count": null,
   "id": "4725c9f7-fbf9-447f-a5e9-dfc018ede17a",
   "metadata": {
    "id": "Oa5ltomOerxy"
   },
   "outputs": [],
   "source": [
    "fifa_df.shape"
   ]
  },
  {
   "cell_type": "code",
   "execution_count": null,
   "id": "bf63c4f8-e87b-43dc-9fc5-a8c8933adbdd",
   "metadata": {
    "id": "dE2awzI8erxy"
   },
   "outputs": [],
   "source": [
    "fifa_df.dtypes"
   ]
  },
  {
   "cell_type": "code",
   "execution_count": null,
   "id": "bac544eb-3b44-4d29-9ef0-0c0b203dbea9",
   "metadata": {
    "id": "Hxv3NEHOerxz"
   },
   "outputs": [],
   "source": [
    "fifa_df.head()"
   ]
  },
  {
   "cell_type": "markdown",
   "id": "205a5876-40e6-4b92-aaa3-7d0abe3e5c69",
   "metadata": {},
   "source": [
    "### Chosing feature selection for dimensionality reduction"
   ]
  },
  {
   "cell_type": "code",
   "execution_count": null,
   "id": "a4a9229f-ecc6-47ee-87ad-5e6840029a42",
   "metadata": {},
   "outputs": [],
   "source": [
    "# Filtering the column list by index\n",
    "player_attributes = fifa_df.columns[12:46]"
   ]
  },
  {
   "cell_type": "code",
   "execution_count": null,
   "id": "37e4c497-e907-4d5d-953c-7757841b9e25",
   "metadata": {},
   "outputs": [],
   "source": [
    "player_attributes"
   ]
  },
  {
   "cell_type": "code",
   "execution_count": null,
   "id": "0eeb173b-5689-408e-86b2-8c81e24146a3",
   "metadata": {
    "tags": []
   },
   "outputs": [],
   "source": [
    "# For features selected, making a transformation from string to int\n",
    "# Why is this required? These features have values like '80+9' or '70-3'\n",
    "\n",
    "attribute2int = lambda x: sum([int(i) for i in x.replace('-', '+').split('+')]) if type(x) == str else x\n",
    "\n",
    "for attribute in player_attributes:\n",
    "    print('Transforming', attribute)\n",
    "    fifa_df[attribute] = fifa_df[attribute].apply(attribute2int)"
   ]
  },
  {
   "cell_type": "markdown",
   "id": "f1300efa-d745-4af4-a5fb-f72da3557162",
   "metadata": {},
   "source": [
    "### Making dimensionality reduction using PCA"
   ]
  },
  {
   "cell_type": "code",
   "execution_count": null,
   "id": "ea2a5ffb",
   "metadata": {},
   "outputs": [],
   "source": [
    "pca = PCA(n_components = 2, random_state = 0)"
   ]
  },
  {
   "cell_type": "code",
   "execution_count": null,
   "id": "5f78e2a7",
   "metadata": {},
   "outputs": [],
   "source": [
    "pca_dimensions = pca.fit_transform(fifa_df[player_attributes])"
   ]
  },
  {
   "cell_type": "code",
   "execution_count": null,
   "id": "b5b65c30",
   "metadata": {},
   "outputs": [],
   "source": [
    "pca_dimensions"
   ]
  },
  {
   "cell_type": "code",
   "execution_count": null,
   "id": "ef854932",
   "metadata": {},
   "outputs": [],
   "source": [
    "pca.explained_variance_ratio_"
   ]
  },
  {
   "cell_type": "code",
   "execution_count": null,
   "id": "70779fd3",
   "metadata": {},
   "outputs": [],
   "source": [
    "plt.figure(figsize = (10, 7))\n",
    "sns.scatterplot(x = pca_dimensions[:,0], y = pca_dimensions[:,1], hue = fifa_df['Preferred Position'], size = 1)\n",
    "plt.legend(loc = 'upper right')\n",
    "plt.show()"
   ]
  },
  {
   "cell_type": "markdown",
   "id": "506e09ee-7781-40ea-9897-16a1ce50ec90",
   "metadata": {},
   "source": [
    "### Making dimensionality reduction using t-SNE"
   ]
  },
  {
   "cell_type": "code",
   "execution_count": null,
   "id": "4ef10bc0",
   "metadata": {},
   "outputs": [],
   "source": [
    "tsne = TSNE(perplexity = 30, random_state = 1)"
   ]
  },
  {
   "cell_type": "code",
   "execution_count": null,
   "id": "57a58b9e",
   "metadata": {},
   "outputs": [],
   "source": [
    "tsne_dimensions = tsne.fit_transform(fifa_df[player_attributes])"
   ]
  },
  {
   "cell_type": "code",
   "execution_count": null,
   "id": "db4887fd",
   "metadata": {},
   "outputs": [],
   "source": [
    "tsne_dimensions"
   ]
  },
  {
   "cell_type": "code",
   "execution_count": null,
   "id": "efab28ec",
   "metadata": {},
   "outputs": [],
   "source": [
    "plt.figure(figsize = (10, 7))\n",
    "sns.scatterplot(x = tsne_dimensions[:,0], y = tsne_dimensions[:,1], hue = fifa_df['Preferred Position'], size = 1)\n",
    "plt.legend(loc = 'upper right')\n",
    "plt.show()"
   ]
  },
  {
   "cell_type": "markdown",
   "id": "b3e1834f-1fe3-42f7-b02f-90e8c84b41f6",
   "metadata": {},
   "source": [
    "### Making dimensionality reduction using UMAP"
   ]
  },
  {
   "cell_type": "raw",
   "id": "ba6d66d3-011c-4638-ade7-a6d82c3be85b",
   "metadata": {},
   "source": [
    "umap = UMAP(n_neighbors = 20, random_state = 2)"
   ]
  },
  {
   "cell_type": "raw",
   "id": "90ed1406-330a-4c33-83a0-77b34f8442ff",
   "metadata": {},
   "source": [
    "umap_dimensions = umap.fit_transform(fifa_df[player_attributes])"
   ]
  },
  {
   "cell_type": "raw",
   "id": "d1301ddc-7542-4bc0-9f9e-8bc505287ba4",
   "metadata": {},
   "source": [
    "umap_dimensions"
   ]
  },
  {
   "cell_type": "raw",
   "id": "58135747-9d43-4052-a451-cd807785073b",
   "metadata": {},
   "source": [
    "plt.figure(figsize = (10, 7))\n",
    "sns.scatterplot(x = umap_dimensions[:,0], y = umap_dimensions[:,1], hue = fifa_df['Preferred Position'], size = 1)\n",
    "plt.legend(loc = 'upper left')\n",
    "plt.show()"
   ]
  },
  {
   "cell_type": "markdown",
   "id": "380f726f-4aff-4487-bcfe-4f38126758f6",
   "metadata": {},
   "source": [
    "Clusters are difficult to see because of the high cardinality of the *Preferred Position* attribute used to encode color.\n",
    "\n",
    "Next step:\n",
    "- Look for a strategy to better group positions"
   ]
  },
  {
   "cell_type": "code",
   "execution_count": null,
   "id": "2b974b55-54a5-4b5c-99b0-7f8de0f7ab68",
   "metadata": {},
   "outputs": [],
   "source": []
  }
 ],
 "metadata": {
  "kernelspec": {
   "display_name": "Python 3 (ipykernel)",
   "language": "python",
   "name": "python3"
  },
  "language_info": {
   "codemirror_mode": {
    "name": "ipython",
    "version": 3
   },
   "file_extension": ".py",
   "mimetype": "text/x-python",
   "name": "python",
   "nbconvert_exporter": "python",
   "pygments_lexer": "ipython3",
   "version": "3.9.12"
  }
 },
 "nbformat": 4,
 "nbformat_minor": 5
}
